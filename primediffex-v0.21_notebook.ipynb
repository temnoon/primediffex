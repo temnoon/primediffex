{
 "cells": [
  {
   "cell_type": "code",
   "execution_count": 135,
   "id": "fb674d60",
   "metadata": {},
   "outputs": [],
   "source": [
    "'''\n",
    "PrimeDiffEx Prime DIfference Explorer - V0.2 Alpha \n",
    "\n",
    "Changelog: Working on it. 15 July 2023\n",
    "\n",
    "\n",
    "'''\n",
    "import gzip\n",
    "import random\n",
    "from math import gcd\n",
    "from sympy import isprime, simplify\n",
    "from fractions import Fraction\n",
    "from collections import deque, Counter\n",
    "from itertools import islice\n",
    "import time\n",
    "import json\n",
    "import csv\n",
    "import os\n",
    "from datetime import datetime\n",
    "import pickle\n",
    "import shutil\n",
    "from itertools import product\n",
    "from collections import defaultdict\n",
    "\n",
    "\n",
    "# The Miller-Rabin primality test is a probabilistic primality test: an algorithm which \n",
    "# determines whether a given number is likely to be prime, similar to the Fermat primality test \n",
    "# and the Solovay-Strassen primality test. Its original version, as described by Miller \n",
    "# (who proved that the test is correct for all prime numbers) and extended by Rabin (who \n",
    "# dealt with the composite, or non-prime, numbers), is deterministic, but the determinism \n",
    "# relies on the unproven generalized Riemann hypothesis. Michael O. Rabin modified it to \n",
    "# obtain an unconditional probabilistic algorithm.\n",
    "def miller_rabin(n, k):  # number of tests\n",
    "    if n < 2:\n",
    "        return False\n",
    "    for p in [2, 3, 5, 7, 11, 13, 17, 19, 23]:\n",
    "        if n % p == 0:\n",
    "            return n == p\n",
    "    r, s = 0, n - 1\n",
    "    while s % 2 == 0:\n",
    "        r += 1\n",
    "        s //= 2\n",
    "    for _ in range(k):\n",
    "        a = random.randrange(2, n - 1)\n",
    "        x = pow(a, s, n)\n",
    "        if x == 1 or x == n - 1:\n",
    "            continue\n",
    "        for _ in range(r - 1):\n",
    "            x = pow(x, 2, n)\n",
    "            if x == n - 1:\n",
    "                break\n",
    "        else:\n",
    "            return False\n",
    "    return True\n",
    "    \n",
    "# Find the next prime number greater than the input number. Uses the Miller-Rabin primality test.\n",
    "def find_next_prime(start_number, miller_rabin_iterations):\n",
    "    if start_number % 2 == 0:\n",
    "        start_number += 1\n",
    "    else:\n",
    "        start_number += 2\n",
    "    number = start_number\n",
    "    while True:\n",
    "        is_prime = miller_rabin(number, miller_rabin_iterations)\n",
    "        if is_prime:\n",
    "            return number\n",
    "        number += 2\n",
    "\n",
    "# Find a sequence of prime numbers, starting from a specified number.\n",
    "def find_prime_sequence(start_number, num_primes, miller_rabin_iterations, verbose):\n",
    "    primes = []\n",
    "    current_number = start_number\n",
    "    if num_primes > 1000:\n",
    "        feedback_factor = 1000\n",
    "    else:\n",
    "        feedback_factor = num_primes / 2\n",
    "    while len(primes) < num_primes:\n",
    "        current_number = find_next_prime(current_number, miller_rabin_iterations)\n",
    "        primes.append(current_number)\n",
    "        if verbose and len(primes) % (num_primes // feedback_factor) == 0:  # Report progress every 0.1%\n",
    "            print(f\"\\r{100.0 * len(primes) / num_primes} % done    \", end=\"\")\n",
    "    print(f\"\\r{100.0} % done             \", end=\"\")\n",
    "    print()  # Print a newline at the end to move the cursor to the next line\n",
    "    return primes\n",
    "\n",
    "# Calculate the second difference for a sequence of numbers.\n",
    "def calculate_second_differences(primes):\n",
    "    gaps = [b - a for a, b in zip(primes[:-1], primes[1:])]\n",
    "    second_differences = [b - a for a, b in zip(gaps[:-1], gaps[1:])]\n",
    "    return second_differences\n",
    "\n",
    "\n",
    "# Calculate the second ratio for a sequence of numbers.\n",
    "def calculate_second_ratios(primes):\n",
    "    gaps = [b - a for a, b in zip(primes[:-1], primes[1:])]\n",
    "    second_differences = [b - a for a, b in zip(gaps[:-1], gaps[1:])]\n",
    "    second_sums = [a + b for a, b in zip(gaps[:-1], gaps[1:])]\n",
    "    second_ratios = [Fraction(sd, ss).limit_denominator() if ss != 0 else None for sd, ss in zip(second_differences, second_sums)]\n",
    "    return second_ratios\n",
    "\n",
    "# Generate a random number with a specific number of bits.\n",
    "def generate_random_number(num_bits):\n",
    "    return random.randint(2**(num_bits-1), 2**num_bits - 1)\n",
    "\n",
    "# Create a directory to store dataset output files.\n",
    "def create_output_directory(num_bits, num_primes):\n",
    "    timestamp = datetime.now().strftime(\"%Y%m%d_%H%M%S\")\n",
    "    directory_name = f\"{num_bits}bit{num_primes}_{timestamp}\"\n",
    "    directory = os.path.join(os.getcwd(), directory_name)\n",
    "    os.makedirs(directory, exist_ok=True)\n",
    "    return directory\n",
    "\n",
    "# Write the sequence of primes with their second differences and second ratios to a CSV file.\n",
    "def write_output_to_csv(primes, sd, sr, base_filename):\n",
    "    filename = f\"{base_filename}_primes.csv\"\n",
    "    with open(filename, 'w', newline='') as file:\n",
    "        writer = csv.writer(file)\n",
    "        writer.writerow([\"Prime\", \"Second Difference\", \"Second Ratio (Fraction)\", \"Second Ratio (Decimal)\"])\n",
    "        for i in range(len(sd)):  # Include all second differences and second ratios\n",
    "            writer.writerow([\n",
    "                str(primes[i+1])[-10:],  # Write the prime number associated with each second difference and second ratio\n",
    "                sd[i] if i < len(sd) else None, \n",
    "                str(sr[i]) if i < len(sr) else None, \n",
    "                float(sr[i]) if (i < len(sr) and sr[i] is not None) else None\n",
    "            ])\n",
    "            \n",
    "    filename = f\"{base_filename}_sd.csv\"\n",
    "    with open(filename, 'w', newline='') as file:\n",
    "        writer = csv.writer(file)\n",
    "        writer.writerow([\"Second Difference\", \"Count\", \"Percentage\"])\n",
    "        sd_counter = Counter(sd)\n",
    "        total_count = len(sd)\n",
    "        for sd, count in sd_counter.most_common():\n",
    "            writer.writerow([sd, count, 100 * count / total_count])\n",
    "\n",
    "    filename = f\"{base_filename}_sr.csv\"\n",
    "    with open(filename, 'w', newline='') as file:\n",
    "        writer = csv.writer(file)\n",
    "        writer.writerow([\"Second Ratio (Fraction)\", \"Count\", \"Percentage\"])\n",
    "        sr_counter = Counter(sr)\n",
    "        total_count = len(sr)\n",
    "        for sr, count in sr_counter.most_common():\n",
    "            writer.writerow([str(sr), count, 100 * count / total_count])\n",
    "\n",
    "    filename = f\"{base_filename}_state.pkl.gz\"\n",
    "    with gzip.open(filename, 'wb') as file:\n",
    "        pickle.dump((primes, sd, sr), file)\n",
    "\n",
    "def calculate_sd_sr_combinations(sd, sr):\n",
    "    sd_sr_combinations = list(zip(sd, sr))\n",
    "    return Counter(sd_sr_combinations)\n",
    "\n",
    "# Write the combinations of second differences and second ratios to a CSV file.\n",
    "def write_sd_sr_combinations_to_csv(sd_sr_combinations, base_filename):\n",
    "    total_count = sum(sd_sr_combinations.values())\n",
    "    filename = f\"{base_filename}_sd_sr_combinations.csv\"\n",
    "    with open(filename, 'w', newline='') as file:\n",
    "        writer = csv.writer(file)\n",
    "        writer.writerow([\"Second Difference\", \"Second Ratio (Fraction)\", \"Count\", \"Percentage\"])\n",
    "        for (sd, sr), count in sd_sr_combinations.most_common():\n",
    "            writer.writerow([sd, str(sr), count, 100 * count / total_count])\n",
    "\n",
    "        \n",
    "# Find sets of primes with specific differences (named prime sets, like \"twin primes\").\n",
    "def find_named_prime_sets(primes, prime_sets, num_digits):\n",
    "    # Define the names associated with each prime set\n",
    "    # This dictionary could be extended if other prime sets become of interest\n",
    "    named_prime_sets = {\n",
    "        2: \"Twin primes\",\n",
    "        4: \"Cousin primes\",\n",
    "        6: \"Sexy primes\",\n",
    "        8: \"Octo primes\",\n",
    "        10: \"Deca primes\",\n",
    "        12: \"Dodeca primes\"\n",
    "    }\n",
    "\n",
    "    # Initialize an empty dictionary for each prime set\n",
    "    # This will be populated with pairs of primes that belong to each set\n",
    "    prime_sets_to_find = {named_prime_sets[set]: [] for set in prime_sets}\n",
    "\n",
    "    # Scan through the primes, checking the difference between each pair\n",
    "    for i in range(len(primes) - 1):\n",
    "        diff = primes[i + 1] - primes[i]\n",
    "\n",
    "        # If the difference matches a prime set, add the pair to the dictionary\n",
    "        for prime_set in prime_sets:\n",
    "            if diff == prime_set:\n",
    "                prime_sets_to_find[named_prime_sets[prime_set]].append((str(primes[i])[-num_digits:], str(primes[i + 1])[-num_digits:]))\n",
    "\n",
    "    # Return the dictionary, which contains all the prime pairs for each specified prime set\n",
    "    return prime_sets_to_find\n",
    "\n",
    "\n",
    "# Write the totals of named prime sets to a CSV file.\n",
    "def write_named_prime_sets_totals_to_csv(named_prime_sets, base_filename):\n",
    "    filename = f\"{base_filename}_named_prime_sets_totals.csv\"\n",
    "    with open(filename, 'w', newline='') as file:\n",
    "        writer = csv.writer(file)\n",
    "        writer.writerow([\"Name\", \"Total\"])\n",
    "        for name in named_prime_sets.keys():\n",
    "            writer.writerow([name, len(named_prime_sets[name])])\n",
    "\n",
    "            \n",
    "# Write the named prime sets to a CSV file.            \n",
    "def write_named_prime_sets_to_csv(named_prime_sets, base_filename):\n",
    "    filename = f\"{base_filename}_named_prime_sets.csv\"\n",
    "    with open(filename, 'w', newline='') as file:\n",
    "        writer = csv.writer(file)\n",
    "        writer.writerow([\"Name\", \"Prime Set\"])\n",
    "        for name in named_prime_sets.keys():\n",
    "            for prime_set in named_prime_sets[name]:\n",
    "                writer.writerow([name, prime_set])\n",
    "\n",
    "def write_metadata_file(output_directory, primes, num_bits, num_primes, num_digits):\n",
    "    metadata = {\n",
    "        \"first_prime\": primes[0],\n",
    "        \"last_prime\": primes[-1],\n",
    "        \"num_bits\": num_bits,\n",
    "        \"num_primes\": num_primes,\n",
    "        \"num_digits\": num_digits,\n",
    "        \"left_digits\": str(primes[0])[:-num_digits] if len(str(primes[0])) > num_digits else str(primes[0])\n",
    "    }\n",
    "    with open(os.path.join(output_directory, \"metadata.json\"), 'w') as metadata_file:\n",
    "        json.dump(metadata, metadata_file, indent=4)\n",
    "\n",
    "# Write the primes, second differences, and second ratios to a CSV file.\n",
    "def write_primes_to_csv(primes, second_differences, second_ratios, base_filename, num_digits):\n",
    "    with open(base_filename + \"_primes.csv\", 'w', newline='') as file:\n",
    "        writer = csv.writer(file)\n",
    "        writer.writerow([\"Prime\", \"Second Difference\", \"Second Ratio\"])\n",
    "        for i in range(len(second_differences)):\n",
    "            writer.writerow([str(primes[i + 1])[ -num_digits:], second_differences[i], second_ratios[i]])\n",
    "\n",
    "\n",
    "\n",
    "\n",
    "# Write the second differences to a CSV file.\n",
    "def write_second_differences_to_csv(second_differences, base_filename):\n",
    "    filename = base_filename + \"_sd.csv\"\n",
    "    sd_counter = Counter(second_differences)\n",
    "    total_counts = len(second_differences)\n",
    "    with open(filename, 'w', newline='') as file:\n",
    "        writer = csv.writer(file)\n",
    "        writer.writerow([\"Second Difference\", \"Count\", \"Percentage\"])\n",
    "        for sd, count in sd_counter.most_common():\n",
    "            writer.writerow([sd, count, count / total_counts * 100])\n",
    "\n",
    "            \n",
    "# Write the second ratios to a CSV file.\n",
    "def write_second_ratios_to_csv(second_ratios, base_filename):\n",
    "    filename = base_filename + \"_sr.csv\"\n",
    "    sr_counter = Counter(second_ratios)\n",
    "    total_counts = len(second_ratios)\n",
    "    with open(filename, 'w', newline='') as file:\n",
    "        writer = csv.writer(file)\n",
    "        writer.writerow([\"Second Ratio\", \"Count\", \"Percentage\"])\n",
    "        for sr, count in sr_counter.most_common():\n",
    "            writer.writerow([sr, count, count / total_counts * 100])\n",
    "            \n",
    "def write_state_to_pickle(primes, sd, sr, base_filename):\n",
    "    filename = f\"{base_filename}_state.pkl.gz\"\n",
    "    with gzip.open(filename, 'wb') as file:\n",
    "        pickle.dump((primes, sd, sr), file)\n",
    "\n",
    "            \n",
    "def load_pickle_file(pickle_file_path):\n",
    "    with gzip.open(pickle_file_path, 'rb') as file:\n",
    "        data = pickle.load(file)\n",
    "    return data\n",
    "\n",
    "def unload_variables_from_pickle_file(pickle_file_path):\n",
    "    # Define a list of variable names that we expect to be loaded from the pickle file\n",
    "    variable_names = ['primes', 'sd', 'sr', 'sd_sr_combinations', 'named_prime_sets']\n",
    "\n",
    "    # Get the current global and local symbol tables\n",
    "    global_vars = globals()\n",
    "    local_vars = locals()\n",
    "\n",
    "    # Delete the variables from the global and local symbol tables\n",
    "    for var_name in variable_names:\n",
    "        if var_name in global_vars:\n",
    "            del global_vars[var_name]\n",
    "        if var_name in local_vars:\n",
    "            del local_vars[var_name]\n",
    "\n",
    "            \n",
    "\n",
    "def run_from_config(config_file):\n",
    "    with open(config_file, 'r') as file:\n",
    "        config = json.load(file)\n",
    "        \n",
    "    # Set the random seed from the config file, if provided\n",
    "    random.seed(config.get('random_seed', None))\n",
    "\n",
    "    miller_rabin_iterations = config.get('miller_rabin_iterations', 5)  # Use 5 as the default\n",
    "\n",
    "    if config['start_number'] == \"random\":\n",
    "        start_number = generate_random_number(config['num_bits'])\n",
    "    else:\n",
    "        start_number = config['start_number']\n",
    "\n",
    "    print(\"Generating primes...\")\n",
    "    primes = find_prime_sequence(start_number, config['num_primes'], miller_rabin_iterations, verbose=True)\n",
    "    # Calculate number of digits which can be safely truncated for auto\n",
    "    num_digits = config.get('num_digits', None)\n",
    "    if num_digits is not None:\n",
    "        if num_digits == \"auto\":\n",
    "            num_digits = len(str(primes[-1] - primes[0])) + 2\n",
    "    #When num_digits is null in config, set to 10. \n",
    "    else: num_digits = 10   \n",
    "    print(\"Calculating named prime sets...\")\n",
    "    prime_sets = config.get('prime_sets', [2, 4, 6, 8, 10, 12])\n",
    "    named_prime_sets = find_named_prime_sets(primes, prime_sets, num_digits)\n",
    "    print(\"Done!\")\n",
    "    print(\"Calculating second differences...\")\n",
    "    second_differences = calculate_second_differences(primes)\n",
    "    print(\"Calculating second ratios...\")\n",
    "    second_ratios = calculate_second_ratios(primes)\n",
    "    print(\"Calculating SD-SR combinations...\")\n",
    "    sd_sr_combinations = calculate_sd_sr_combinations(second_differences, second_ratios)\n",
    "    sd_sr_combinations = Counter(sd_sr_combinations) \n",
    "    print(\"Calculating named prime sets...\")\n",
    "    named_prime_sets = find_named_prime_sets(primes, prime_sets, num_digits)\n",
    "    print(\"Done!\")\n",
    "    \n",
    "    if config['write_output']:\n",
    "        output_directory = create_output_directory(config['num_bits'], config['num_primes'])\n",
    "        print(f\"Full path to the output directory: {os.path.abspath(output_directory)}\")\n",
    "        print(f\"Current working directory: {os.getcwd()}\")\n",
    "        # Copy the configuration file to the output directory\n",
    "        shutil.copy2(config_file, os.path.join(output_directory, \"config.json\"))\n",
    "        # Write metadata file \n",
    "        write_metadata_file(output_directory, primes, config['num_bits'], config['num_primes'], num_digits)\n",
    "\n",
    "        base_filename = os.path.join(output_directory, f\"{config['num_bits']}bit{config['num_primes']}\")\n",
    "\n",
    "\n",
    "        if config.get('output_primes', True):\n",
    "            write_primes_to_csv(primes, second_differences, second_ratios, base_filename, num_digits)\n",
    "            write_state_to_pickle(primes, second_differences, second_ratios, base_filename)\n",
    "        if config.get('output_second_differences', True):\n",
    "            write_second_differences_to_csv(second_differences, base_filename)\n",
    "        if config.get('output_second_ratios', True):\n",
    "            write_second_ratios_to_csv(second_ratios, base_filename)\n",
    "        if config.get('output_sd_sr_combinations', True):\n",
    "            write_sd_sr_combinations_to_csv(sd_sr_combinations, base_filename)\n",
    "        if config.get('output_named_prime_sets', True):\n",
    "            write_named_prime_sets_to_csv(named_prime_sets, base_filename)\n",
    "        if config.get('output_named_prime_sets_totals', True):\n",
    "            write_named_prime_sets_totals_to_csv(named_prime_sets, base_filename)\n",
    "\n",
    "\n",
    "        \n",
    "    return primes, second_differences, second_ratios, sd_sr_combinations, named_prime_sets\n"
   ]
  },
  {
   "cell_type": "code",
   "execution_count": 136,
   "id": "93d3deba",
   "metadata": {},
   "outputs": [
    {
     "name": "stdout",
     "output_type": "stream",
     "text": [
      "{\r\n",
      "\"random_seed\": 1234,\r\n",
      "\"num_bits\": 256,\r\n",
      "\"num_primes\": 10000,\r\n",
      "\"start_number\": \"random\",\r\n",
      "\"write_output\": true,\r\n",
      "\"output_primes\": true,\r\n",
      "\"output_second_differences\": true,\r\n",
      "\"output_second_ratios\": true,\r\n",
      "\"output_sd_sr_combinations\": true,\r\n",
      "\"output_named_prime_sets\": true,\r\n",
      "\"output_named_prime_sets_totals\": true,\r\n",
      "\"miller_rabin_iterations\": 5,\r\n",
      "\"num_digits\": \"auto\",\r\n",
      "\"prime_sets\": [2, 4]\r\n",
      "}"
     ]
    }
   ],
   "source": [
    "!cat config.json"
   ]
  },
  {
   "cell_type": "code",
   "execution_count": 137,
   "id": "c601d44c",
   "metadata": {},
   "outputs": [
    {
     "name": "stdout",
     "output_type": "stream",
     "text": [
      "Generating primes...\n",
      "100.0 % done             \n",
      "Calculating named prime sets...\n",
      "Done!\n",
      "Calculating second differences...\n",
      "Calculating second ratios...\n",
      "Calculating SD-SR combinations...\n",
      "Calculating named prime sets...\n",
      "Done!\n",
      "Full path to the output directory: /Users/tem/primejuly/256bit10000_20230715_195759\n",
      "Current working directory: /Users/tem/primejuly\n"
     ]
    }
   ],
   "source": [
    "primes, sd, sr, sd_sr_combinations, named_prime_sets = run_from_config('config.json')"
   ]
  },
  {
   "cell_type": "code",
   "execution_count": 139,
   "id": "b9deeb3c",
   "metadata": {},
   "outputs": [
    {
     "data": {
      "text/plain": [
       "69292538960327306049903804807362518857207638024876774494604948273643417497347"
      ]
     },
     "execution_count": 139,
     "metadata": {},
     "output_type": "execute_result"
    }
   ],
   "source": [
    "primes[0]\n"
   ]
  },
  {
   "cell_type": "code",
   "execution_count": 140,
   "id": "f4fa6e9a",
   "metadata": {},
   "outputs": [
    {
     "data": {
      "text/plain": [
       "69292538960327306049903804807362518857207638024876774494604948273643417497749"
      ]
     },
     "execution_count": 140,
     "metadata": {},
     "output_type": "execute_result"
    }
   ],
   "source": [
    "primes[1]"
   ]
  },
  {
   "cell_type": "code",
   "execution_count": 142,
   "id": "a5a1cf5b",
   "metadata": {},
   "outputs": [
    {
     "data": {
      "text/plain": [
       "1768354"
      ]
     },
     "execution_count": 142,
     "metadata": {},
     "output_type": "execute_result"
    }
   ],
   "source": [
    "primes[-1] - primes[0]"
   ]
  },
  {
   "cell_type": "code",
   "execution_count": 143,
   "id": "e8563947",
   "metadata": {},
   "outputs": [
    {
     "name": "stdout",
     "output_type": "stream",
     "text": [
      "{\r\n",
      "\"random_seed\": 1234,\r\n",
      "\"num_bits\": 8,\r\n",
      "\"num_primes\": 100,\r\n",
      "\"start_number\": \"random\",\r\n",
      "\"write_output\": true,\r\n",
      "\"output_primes\": true,\r\n",
      "\"output_second_differences\": true,\r\n",
      "\"output_second_ratios\": true,\r\n",
      "\"output_sd_sr_combinations\": true,\r\n",
      "\"output_named_prime_sets\": true,\r\n",
      "\"output_named_prime_sets_totals\": true,\r\n",
      "\"miller_rabin_iterations\": 5,\r\n",
      "\"num_digits\": \"auto\",\r\n",
      "\"prime_sets\": [2, 4]\r\n",
      "}"
     ]
    }
   ],
   "source": [
    "!cat config.json"
   ]
  },
  {
   "cell_type": "code",
   "execution_count": 144,
   "id": "c76b0aa7",
   "metadata": {},
   "outputs": [
    {
     "name": "stdout",
     "output_type": "stream",
     "text": [
      "Generating primes...\n",
      "\r",
      "2.0 % done    \r",
      "4.0 % done    \r",
      "6.0 % done    \r",
      "8.0 % done    \r",
      "10.0 % done    \r",
      "12.0 % done    \r",
      "14.0 % done    \r",
      "16.0 % done    \r",
      "18.0 % done    \r",
      "20.0 % done    \r",
      "22.0 % done    \r",
      "24.0 % done    \r",
      "26.0 % done    \r",
      "28.0 % done    \r",
      "30.0 % done    \r",
      "32.0 % done    \r",
      "34.0 % done    \r",
      "36.0 % done    \r",
      "38.0 % done    \r",
      "40.0 % done    \r",
      "42.0 % done    \r",
      "44.0 % done    \r",
      "46.0 % done    \r",
      "48.0 % done    \r",
      "50.0 % done    \r",
      "52.0 % done    \r",
      "54.0 % done    \r",
      "56.0 % done    \r",
      "58.0 % done    \r",
      "60.0 % done    \r",
      "62.0 % done    \r",
      "64.0 % done    \r",
      "66.0 % done    \r",
      "68.0 % done    \r",
      "70.0 % done    \r",
      "72.0 % done    \r",
      "74.0 % done    \r",
      "76.0 % done    \r",
      "78.0 % done    \r",
      "80.0 % done    \r",
      "82.0 % done    \r",
      "84.0 % done    \r",
      "86.0 % done    \r",
      "88.0 % done    \r",
      "90.0 % done    \r",
      "92.0 % done    \r",
      "94.0 % done    \r",
      "96.0 % done    \r",
      "98.0 % done    \r",
      "100.0 % done    \r",
      "100.0 % done             \n",
      "Calculating named prime sets...\n",
      "Done!\n",
      "Calculating second differences...\n",
      "Calculating second ratios...\n",
      "Calculating SD-SR combinations...\n",
      "Calculating named prime sets...\n",
      "Done!\n",
      "Full path to the output directory: /Users/tem/primejuly/8bit100_20230715_200147\n",
      "Current working directory: /Users/tem/primejuly\n"
     ]
    }
   ],
   "source": [
    "primes, sd, sr, sd_sr_combinations, named_prime_sets = run_from_config('config.json')"
   ]
  },
  {
   "cell_type": "code",
   "execution_count": 145,
   "id": "9d6d9bf4",
   "metadata": {},
   "outputs": [
    {
     "data": {
      "text/plain": [
       "241"
      ]
     },
     "execution_count": 145,
     "metadata": {},
     "output_type": "execute_result"
    }
   ],
   "source": [
    "primes[0]"
   ]
  },
  {
   "cell_type": "code",
   "execution_count": 146,
   "id": "1922ca5b",
   "metadata": {},
   "outputs": [
    {
     "data": {
      "text/plain": [
       "881"
      ]
     },
     "execution_count": 146,
     "metadata": {},
     "output_type": "execute_result"
    }
   ],
   "source": [
    "primes[-1]"
   ]
  },
  {
   "cell_type": "code",
   "execution_count": 123,
   "id": "019b9349",
   "metadata": {},
   "outputs": [
    {
     "name": "stdout",
     "output_type": "stream",
     "text": [
      "{\r\n",
      "\"random_seed\": 1234,\r\n",
      "\"num_bits\": 256,\r\n",
      "\"num_primes\": 10000,\r\n",
      "\"start_number\": \"random\",\r\n",
      "\"write_output\": true,\r\n",
      "\"output_primes\": true,\r\n",
      "\"output_second_differences\": true,\r\n",
      "\"output_second_ratios\": true,\r\n",
      "\"output_sd_sr_combinations\": true,\r\n",
      "\"output_named_prime_sets\": true,\r\n",
      "\"output_named_prime_sets_totals\": true,\r\n",
      "\"miller_rabin_iterations\": 5,\r\n",
      "\"num_digits\": \"auto\",\r\n",
      "\"prime_sets\": [2, 4]\r\n",
      "}"
     ]
    }
   ],
   "source": [
    "!cat config.json"
   ]
  },
  {
   "cell_type": "code",
   "execution_count": 147,
   "id": "af3199e1",
   "metadata": {},
   "outputs": [
    {
     "name": "stdout",
     "output_type": "stream",
     "text": [
      "Generating primes...\n",
      "100.0 % done             \n",
      "Calculating named prime sets...\n",
      "Done!\n",
      "Calculating second differences...\n",
      "Calculating second ratios...\n",
      "Calculating SD-SR combinations...\n",
      "Calculating named prime sets...\n",
      "Done!\n",
      "Full path to the output directory: /Users/tem/primejuly/256bit10000_20230715_200352\n",
      "Current working directory: /Users/tem/primejuly\n"
     ]
    }
   ],
   "source": [
    "primes, sd, sr, sd_sr_combinations, named_prime_sets = run_from_config('config.json')"
   ]
  },
  {
   "cell_type": "code",
   "execution_count": 148,
   "id": "220f1ed3",
   "metadata": {},
   "outputs": [
    {
     "data": {
      "text/plain": [
       "69292538960327306049903804807362518857207638024876774494604948273643417497347"
      ]
     },
     "execution_count": 148,
     "metadata": {},
     "output_type": "execute_result"
    }
   ],
   "source": [
    "primes[0]"
   ]
  },
  {
   "cell_type": "code",
   "execution_count": 149,
   "id": "4c77d7b3",
   "metadata": {},
   "outputs": [
    {
     "data": {
      "text/plain": [
       "69292538960327306049903804807362518857207638024876774494604948273643419265701"
      ]
     },
     "execution_count": 149,
     "metadata": {},
     "output_type": "execute_result"
    }
   ],
   "source": [
    "primes[-1]"
   ]
  },
  {
   "cell_type": "code",
   "execution_count": 128,
   "id": "c2ec139e",
   "metadata": {},
   "outputs": [],
   "source": [
    "primes, sd, sr = load_pickle_file(\"8bit100_20230715_194529/8bit100_state.pkl.gz\")"
   ]
  },
  {
   "cell_type": "code",
   "execution_count": 129,
   "id": "25fdbc2f",
   "metadata": {},
   "outputs": [
    {
     "data": {
      "text/plain": [
       "211"
      ]
     },
     "execution_count": 129,
     "metadata": {},
     "output_type": "execute_result"
    }
   ],
   "source": [
    "primes[0]"
   ]
  },
  {
   "cell_type": "code",
   "execution_count": 130,
   "id": "a3d8686a",
   "metadata": {},
   "outputs": [
    {
     "data": {
      "text/plain": [
       "839"
      ]
     },
     "execution_count": 130,
     "metadata": {},
     "output_type": "execute_result"
    }
   ],
   "source": [
    "primes[-1]"
   ]
  },
  {
   "cell_type": "code",
   "execution_count": 131,
   "id": "af3ea807",
   "metadata": {},
   "outputs": [],
   "source": [
    "primes, sd, sr = load_pickle_file(\"256bit10000_20230715_194709/256bit10000_state.pkl.gz\")"
   ]
  },
  {
   "cell_type": "code",
   "execution_count": 132,
   "id": "899d39fd",
   "metadata": {},
   "outputs": [
    {
     "data": {
      "text/plain": [
       "70302485604775097247182212860283555474117777204735597059345894443870799219947"
      ]
     },
     "execution_count": 132,
     "metadata": {},
     "output_type": "execute_result"
    }
   ],
   "source": [
    "primes[0]"
   ]
  },
  {
   "cell_type": "code",
   "execution_count": 151,
   "id": "bf6f1ed4",
   "metadata": {},
   "outputs": [
    {
     "data": {
      "text/plain": [
       "69292538960327306049903804807362518857207638024876774494604948273643417497749"
      ]
     },
     "execution_count": 151,
     "metadata": {},
     "output_type": "execute_result"
    }
   ],
   "source": [
    "primes[1]"
   ]
  },
  {
   "cell_type": "code",
   "execution_count": null,
   "id": "d7de3640",
   "metadata": {},
   "outputs": [],
   "source": []
  },
  {
   "cell_type": "code",
   "execution_count": 154,
   "id": "e4f53952",
   "metadata": {},
   "outputs": [
    {
     "name": "stdout",
     "output_type": "stream",
     "text": [
      "{\r\n",
      "\"num_bits\": 256,\r\n",
      "\"num_primes\": 10000,\r\n",
      "\"start_number\": \"random\",\r\n",
      "\"write_output\": true,\r\n",
      "\"output_primes\": true,\r\n",
      "\"output_second_differences\": true,\r\n",
      "\"output_second_ratios\": true,\r\n",
      "\"output_sd_sr_combinations\": true,\r\n",
      "\"output_named_prime_sets\": true,\r\n",
      "\"output_named_prime_sets_totals\": true,\r\n",
      "\"miller_rabin_iterations\": 5,\r\n",
      "\"num_digits\": \"auto\",\r\n",
      "\"prime_sets\": [2, 4]\r\n",
      "}"
     ]
    }
   ],
   "source": [
    "!cat config.json #random_seed removed"
   ]
  },
  {
   "cell_type": "code",
   "execution_count": 155,
   "id": "8bc314cd",
   "metadata": {},
   "outputs": [
    {
     "name": "stdout",
     "output_type": "stream",
     "text": [
      "Generating primes...\n",
      "100.0 % done             \n",
      "Calculating named prime sets...\n",
      "Done!\n",
      "Calculating second differences...\n",
      "Calculating second ratios...\n",
      "Calculating SD-SR combinations...\n",
      "Calculating named prime sets...\n",
      "Done!\n",
      "Full path to the output directory: /Users/tem/primejuly/256bit10000_20230715_201909\n",
      "Current working directory: /Users/tem/primejuly\n"
     ]
    }
   ],
   "source": [
    "primes, sd, sr, sd_sr_combinations, named_prime_sets = run_from_config('config.json')"
   ]
  },
  {
   "cell_type": "code",
   "execution_count": 156,
   "id": "4d1d46cd",
   "metadata": {},
   "outputs": [
    {
     "data": {
      "text/plain": [
       "69263454140202274896666040813147753680858842313562504511430922677465351239389"
      ]
     },
     "execution_count": 156,
     "metadata": {},
     "output_type": "execute_result"
    }
   ],
   "source": [
    "primes[0]"
   ]
  },
  {
   "cell_type": "code",
   "execution_count": 157,
   "id": "656a7f0e",
   "metadata": {},
   "outputs": [
    {
     "data": {
      "text/plain": [
       "69263454140202274896666040813147753680858842313562504511430922677465353037341"
      ]
     },
     "execution_count": 157,
     "metadata": {},
     "output_type": "execute_result"
    }
   ],
   "source": [
    "primes[-1]"
   ]
  },
  {
   "cell_type": "code",
   "execution_count": 158,
   "id": "0a63cc3b",
   "metadata": {},
   "outputs": [
    {
     "name": "stdout",
     "output_type": "stream",
     "text": [
      "Generating primes...\n",
      "100.0 % done             \n",
      "Calculating named prime sets...\n",
      "Done!\n",
      "Calculating second differences...\n",
      "Calculating second ratios...\n",
      "Calculating SD-SR combinations...\n",
      "Calculating named prime sets...\n",
      "Done!\n",
      "Full path to the output directory: /Users/tem/primejuly/256bit10000_20230715_203258\n",
      "Current working directory: /Users/tem/primejuly\n"
     ]
    }
   ],
   "source": [
    "primes, sd, sr, sd_sr_combinations, named_prime_sets = run_from_config('config.json')"
   ]
  },
  {
   "cell_type": "code",
   "execution_count": 159,
   "id": "6854be5c",
   "metadata": {},
   "outputs": [
    {
     "data": {
      "text/plain": [
       "100091444983865287664752696465402507486682355969726198818862562353753518995139"
      ]
     },
     "execution_count": 159,
     "metadata": {},
     "output_type": "execute_result"
    }
   ],
   "source": [
    "primes[0]"
   ]
  },
  {
   "cell_type": "code",
   "execution_count": 160,
   "id": "333e13ff",
   "metadata": {},
   "outputs": [
    {
     "data": {
      "text/plain": [
       "100091444983865287664752696465402507486682355969726198818862562353753520765403"
      ]
     },
     "execution_count": 160,
     "metadata": {},
     "output_type": "execute_result"
    }
   ],
   "source": [
    "primes[-1]"
   ]
  },
  {
   "cell_type": "code",
   "execution_count": 161,
   "id": "94c34fe6",
   "metadata": {},
   "outputs": [
    {
     "name": "stdout",
     "output_type": "stream",
     "text": [
      "{\r\n",
      "\"random_seed\": 9999\r\n",
      "\"num_bits\": 256,\r\n",
      "\"num_primes\": 10000,\r\n",
      "\"start_number\": \"random\",\r\n",
      "\"write_output\": true,\r\n",
      "\"output_primes\": true,\r\n",
      "\"output_second_differences\": true,\r\n",
      "\"output_second_ratios\": true,\r\n",
      "\"output_sd_sr_combinations\": true,\r\n",
      "\"output_named_prime_sets\": true,\r\n",
      "\"output_named_prime_sets_totals\": true,\r\n",
      "\"miller_rabin_iterations\": 5,\r\n",
      "\"num_digits\": \"auto\",\r\n",
      "\"prime_sets\": [2, 4]\r\n",
      "}"
     ]
    }
   ],
   "source": [
    "primes!cat config.json #Random Seed set"
   ]
  },
  {
   "cell_type": "code",
   "execution_count": 163,
   "id": "37685905",
   "metadata": {},
   "outputs": [
    {
     "name": "stdout",
     "output_type": "stream",
     "text": [
      "Generating primes...\n",
      "100.0 % done             \n",
      "Calculating named prime sets...\n",
      "Done!\n",
      "Calculating second differences...\n",
      "Calculating second ratios...\n",
      "Calculating SD-SR combinations...\n",
      "Calculating named prime sets...\n",
      "Done!\n",
      "Full path to the output directory: /Users/tem/primejuly/256bit10000_20230715_203549\n",
      "Current working directory: /Users/tem/primejuly\n"
     ]
    }
   ],
   "source": [
    "primes, sd, sr, sd_sr_combinations, named_prime_sets = run_from_config('config.json')"
   ]
  },
  {
   "cell_type": "code",
   "execution_count": 164,
   "id": "63b88a21",
   "metadata": {},
   "outputs": [
    {
     "data": {
      "text/plain": [
       "80421540044032553066117126094912829512166524641699413272439915632248591921089"
      ]
     },
     "execution_count": 164,
     "metadata": {},
     "output_type": "execute_result"
    }
   ],
   "source": [
    "primes[0]"
   ]
  },
  {
   "cell_type": "code",
   "execution_count": 165,
   "id": "70257951",
   "metadata": {},
   "outputs": [
    {
     "data": {
      "text/plain": [
       "80421540044032553066117126094912829512166524641699413272439915632248593720901"
      ]
     },
     "execution_count": 165,
     "metadata": {},
     "output_type": "execute_result"
    }
   ],
   "source": [
    "primes[-1]"
   ]
  },
  {
   "cell_type": "code",
   "execution_count": 166,
   "id": "d9213768",
   "metadata": {},
   "outputs": [
    {
     "data": {
      "text/plain": [
       "1799812"
      ]
     },
     "execution_count": 166,
     "metadata": {},
     "output_type": "execute_result"
    }
   ],
   "source": [
    "primes[-1]-primes[0]"
   ]
  },
  {
   "cell_type": "code",
   "execution_count": 167,
   "id": "42dfcd0b",
   "metadata": {},
   "outputs": [
    {
     "name": "stdout",
     "output_type": "stream",
     "text": [
      "Generating primes...\n",
      "100.0 % done             \n",
      "Calculating named prime sets...\n",
      "Done!\n",
      "Calculating second differences...\n",
      "Calculating second ratios...\n",
      "Calculating SD-SR combinations...\n",
      "Calculating named prime sets...\n",
      "Done!\n",
      "Full path to the output directory: /Users/tem/primejuly/256bit10000_20230715_203740\n",
      "Current working directory: /Users/tem/primejuly\n"
     ]
    }
   ],
   "source": [
    "primes, sd, sr, sd_sr_combinations, named_prime_sets = run_from_config('config.json')"
   ]
  },
  {
   "cell_type": "code",
   "execution_count": 168,
   "id": "f59d85e9",
   "metadata": {},
   "outputs": [
    {
     "data": {
      "text/plain": [
       "80421540044032553066117126094912829512166524641699413272439915632248591921089"
      ]
     },
     "execution_count": 168,
     "metadata": {},
     "output_type": "execute_result"
    }
   ],
   "source": [
    "primes[0]"
   ]
  },
  {
   "cell_type": "code",
   "execution_count": 169,
   "id": "10e5594f",
   "metadata": {},
   "outputs": [
    {
     "data": {
      "text/plain": [
       "80421540044032553066117126094912829512166524641699413272439915632248593720901"
      ]
     },
     "execution_count": 169,
     "metadata": {},
     "output_type": "execute_result"
    }
   ],
   "source": [
    "primes[-1]"
   ]
  },
  {
   "cell_type": "code",
   "execution_count": null,
   "id": "5664f2fb",
   "metadata": {},
   "outputs": [],
   "source": [
    "# The random seed works!"
   ]
  }
 ],
 "metadata": {
  "kernelspec": {
   "display_name": "Python 3 (ipykernel)",
   "language": "python",
   "name": "python3"
  },
  "language_info": {
   "codemirror_mode": {
    "name": "ipython",
    "version": 3
   },
   "file_extension": ".py",
   "mimetype": "text/x-python",
   "name": "python",
   "nbconvert_exporter": "python",
   "pygments_lexer": "ipython3",
   "version": "3.9.16"
  }
 },
 "nbformat": 4,
 "nbformat_minor": 5
}
